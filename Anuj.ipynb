{
  "nbformat": 4,
  "nbformat_minor": 0,
  "metadata": {
    "colab": {
      "provenance": [],
      "authorship_tag": "ABX9TyOrdntXuIkPlCWn0lOrVjCT",
      "include_colab_link": true
    },
    "kernelspec": {
      "name": "python3",
      "display_name": "Python 3"
    },
    "language_info": {
      "name": "python"
    }
  },
  "cells": [
    {
      "cell_type": "markdown",
      "metadata": {
        "id": "view-in-github",
        "colab_type": "text"
      },
      "source": [
        "<a href=\"https://colab.research.google.com/github/anujbhokse0403/python/blob/main/Anuj.ipynb\" target=\"_parent\"><img src=\"https://colab.research.google.com/assets/colab-badge.svg\" alt=\"Open In Colab\"/></a>"
      ]
    },
    {
      "cell_type": "code",
      "source": [
        "sum = 0\n",
        "n=int (input(\"Enter a number\"))\n",
        "while n!=0:\n",
        "  digit = n%10\n",
        "  sum = sum+digit\n",
        "  n=n//10\n",
        "print (sum)"
      ],
      "metadata": {
        "colab": {
          "base_uri": "https://localhost:8080/"
        },
        "id": "hyqQZrfxPqTj",
        "outputId": "f4bf84b0-2e6e-44d2-ec31-0dc47845b938"
      },
      "execution_count": null,
      "outputs": [
        {
          "output_type": "stream",
          "name": "stdout",
          "text": [
            "Enter a number121\n",
            "4\n"
          ]
        }
      ]
    },
    {
      "cell_type": "code",
      "source": [
        "sum = 0\n",
        "n=int (input(\"Enter range\"))\n",
        "for i in range (1, n+1):\n",
        "  sum=sum+i\n",
        "print (sum)"
      ],
      "metadata": {
        "colab": {
          "base_uri": "https://localhost:8080/"
        },
        "id": "NHE45mNIJkIm",
        "outputId": "e3bc9f62-3c2e-4748-afba-4a6401df2d4c"
      },
      "execution_count": null,
      "outputs": [
        {
          "output_type": "stream",
          "name": "stdout",
          "text": [
            "Enter range2\n",
            "3\n"
          ]
        }
      ]
    },
    {
      "cell_type": "code",
      "source": [
        "n =int (input(\"Enter range\"))\n",
        "for i in range (2, n+1):\n",
        "  count = 0\n",
        "  for j in range (1, 1+i):\n",
        "    if i%j==0:\n",
        "      count=count+1\n",
        "  if count==2:\n",
        "    print (i)"
      ],
      "metadata": {
        "colab": {
          "base_uri": "https://localhost:8080/"
        },
        "id": "gzT7VMYUGQin",
        "outputId": "adc43cfe-77e7-4e8b-c664-f16cd8ff78a9"
      },
      "execution_count": null,
      "outputs": [
        {
          "output_type": "stream",
          "name": "stdout",
          "text": [
            "Enter range10\n",
            "2\n",
            "3\n",
            "5\n",
            "7\n"
          ]
        }
      ]
    },
    {
      "cell_type": "code",
      "source": [
        "count = 0\n",
        "n = int (input(\"Enter n\"))\n",
        "\n",
        "for i in range (1, n+1):\n",
        "  if n%i==0:\n",
        "    count=count+1\n",
        "\n",
        "if count==2:\n",
        "  print (n,\"is prime\")\n",
        "else:\n",
        "  print (n,\"is not prime\")"
      ],
      "metadata": {
        "colab": {
          "base_uri": "https://localhost:8080/"
        },
        "id": "wq8qIwqbFoED",
        "outputId": "02159ead-9fe2-4e18-cbc6-7aafb72ea67c"
      },
      "execution_count": null,
      "outputs": [
        {
          "output_type": "stream",
          "name": "stdout",
          "text": [
            "Enter n7\n",
            "7 is prime\n"
          ]
        }
      ]
    },
    {
      "cell_type": "code",
      "source": [
        "a=int (input(\"enter a\"))\n",
        "b=int (input(\"enter b\"))\n",
        "c=int (input(\"enter c\"))\n",
        "\n",
        "if a>b and a>c:\n",
        "  print (a,\"is greater\")\n",
        "elif b>c and b>a:\n",
        "  print (b,\"is greater\")\n",
        "else:\n",
        "  print (c,\"is greater\")"
      ],
      "metadata": {
        "colab": {
          "base_uri": "https://localhost:8080/"
        },
        "id": "1jc6tmnAEKgz",
        "outputId": "357d8542-d866-4bb3-8321-9251de4107d6"
      },
      "execution_count": null,
      "outputs": [
        {
          "output_type": "stream",
          "name": "stdout",
          "text": [
            "enter a10\n",
            "enter b20\n",
            "enter c30\n",
            "30 is greater\n"
          ]
        }
      ]
    },
    {
      "cell_type": "code",
      "execution_count": null,
      "metadata": {
        "colab": {
          "base_uri": "https://localhost:8080/"
        },
        "id": "N6V12tacAk37",
        "outputId": "3bdaed21-dd37-4383-85fd-5a5afe377067"
      },
      "outputs": [
        {
          "output_type": "stream",
          "name": "stdout",
          "text": [
            "enter a20\n",
            "enter b40\n",
            "40 is greater than  20\n"
          ]
        }
      ],
      "source": [
        "a=int (input(\"enter a\"))\n",
        "b=int (input(\"enter b\"))\n",
        "\n",
        "if a>b:\n",
        "  print (a,\"is greater than\", b)\n",
        "else:\n",
        "  print (b,\"is greater than \",a)"
      ]
    }
  ]
}